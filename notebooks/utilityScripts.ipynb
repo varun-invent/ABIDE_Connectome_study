{
 "cells": [
  {
   "cell_type": "markdown",
   "metadata": {},
   "source": [
    "# Utility Scripts\n",
    "This script contains some usefil scripts\n",
    "1. Executing a bash command from python\n",
    "2. Command to convert byte string to ascii\n",
    "3. Expand the environment variables in the string\n",
    "4. Using Regular Expression to extract subject ID from the file path\n",
    "5. Parallel Execution of a loop - Part 1\n",
    "6. Parallel Execution of a loop - Part 2 (Passing Shared arrays/objects)\n",
    "7. Reading and writing CSV using Pandas\n",
    "8. Reading json files\n",
    "9. Plotting a Histogram and Box Plots\n"
   ]
  },
  {
   "cell_type": "markdown",
   "metadata": {},
   "source": [
    "### 1. Executing a bash command from python\n",
    "> This script executes the fslmaths command to invert the mask i.e. 1 -> 0 and 0 -> 1"
   ]
  },
  {
   "cell_type": "code",
   "execution_count": 1,
   "metadata": {},
   "outputs": [
    {
     "name": "stdout",
     "output_type": "stream",
     "text": [
      "The commandline is: fslmaths /usr/local/fsl/data/standard/MNI152_T1_2mm_brain_mask.nii.gz -mul -1 -add 1 mask_inverted\n"
     ]
    }
   ],
   "source": [
    "import subprocess\n",
    "import os\n",
    "from os.path import join as opj\n",
    "\n",
    "mask = os.path.expandvars('$FSLDIR/data/standard/MNI152_T1_2mm_brain_mask.nii.gz')\n",
    "\n",
    "proc = subprocess.Popen(['fslmaths', mask, '-mul', '-1', '-add' ,'1', 'mask_inverted'], \n",
    "                         stdout=subprocess.PIPE)\n",
    "stdoutdata= proc.communicate()\n",
    "\n",
    "# To check how the command was executed in cmdline\n",
    "\n",
    "print(\"The commandline is: {}\".format(subprocess.list2cmdline(proc.args)))\n",
    "\n",
    "cwd = os.getcwd()\n",
    "\n",
    "mask_inverted_path = opj(cwd, 'mask_inverted.nii.gz')"
   ]
  },
  {
   "cell_type": "markdown",
   "metadata": {},
   "source": [
    "### 2. Byte string to ASCII"
   ]
  },
  {
   "cell_type": "code",
   "execution_count": null,
   "metadata": {
    "collapsed": true
   },
   "outputs": [],
   "source": [
    "asciiString = byteString.decode(\"utf-8\")"
   ]
  },
  {
   "cell_type": "markdown",
   "metadata": {},
   "source": [
    "### 3. Expand the environment variables in the string "
   ]
  },
  {
   "cell_type": "code",
   "execution_count": 3,
   "metadata": {},
   "outputs": [
    {
     "data": {
      "text/plain": [
       "'/usr/share/fsl/5.0'"
      ]
     },
     "execution_count": 3,
     "metadata": {},
     "output_type": "execute_result"
    }
   ],
   "source": [
    "import os\n",
    "\n",
    "os.path.expandvars('$FSLDIR')"
   ]
  },
  {
   "cell_type": "markdown",
   "metadata": {},
   "source": [
    "### 4. Using Regular Expression to extract subject ID from the file path"
   ]
  },
  {
   "cell_type": "code",
   "execution_count": null,
   "metadata": {
    "collapsed": true
   },
   "outputs": [],
   "source": [
    "import re \n",
    "\n",
    "anat_path = '/coreg_reg/_subject_id_0050002/anat2std_reg/sub-0050002_T1w_resample_brain_flirt.nii'\n",
    "sub_id_extracted = re.search('.+_subject_id_(\\d+)', anat_path).group(1)"
   ]
  },
  {
   "cell_type": "markdown",
   "metadata": {},
   "source": [
    "### 5. Parallel Execution of a loop - Part 1\n",
    "\n",
    "input_list = np.arange(100)\n",
    "\n",
    "```\n",
    "for i in range(100):\n",
    "    function_perform_action(input_list[i])\n",
    "```"
   ]
  },
  {
   "cell_type": "code",
   "execution_count": null,
   "metadata": {
    "collapsed": true
   },
   "outputs": [],
   "source": [
    "from multiprocessing import Pool\n",
    "import multiprocessing.managers\n",
    "\n",
    "input_list = np.arange(100)\n",
    "\n",
    "\n",
    "# Create pool of 8 workers i.e. 8 processors will be utilized\n",
    "pool = Pool(8)\n",
    "\n",
    "# Execute the function - function_perform_action() with the inputs from input_list\n",
    "pool.map(function_perform_action, input_list)"
   ]
  },
  {
   "cell_type": "markdown",
   "metadata": {},
   "source": [
    "### 6. Parallel Execution of a loop - Part 2 (Passing Shared arrays/objects)\n",
    "This function distributes a shared object (ndArray in our case) and then wait for the workers to compute and fill up the object.\n",
    "\n",
    "input_list = np.arange(100)  \n",
    "sharedMatrix = np.zeros((100,100))\n",
    "\n",
    "```\n",
    "for i in range(100):\n",
    "    function_compute(sharedMatrix,input_list[i])\n",
    "```\n",
    "\n",
    "**Result** - sharedMatrix with entries computed by function_compute  \n",
    "**Note** - Other global arrays can also be sent to the workers in the similar way"
   ]
  },
  {
   "cell_type": "code",
   "execution_count": 6,
   "metadata": {
    "collapsed": true
   },
   "outputs": [],
   "source": [
    "from functools import partial\n",
    "from multiprocessing import Pool\n",
    "import multiprocessing.managers\n",
    "\n",
    "class MyManager(multiprocessing.managers.BaseManager):\n",
    "    pass\n",
    "MyManager.register('np_zeros', np.zeros, multiprocessing.managers.ArrayProxy)\n",
    "\n",
    "\n",
    "input_list = np.arange(100)\n",
    "\n",
    "\n",
    "m = MyManager()\n",
    "m.start()\n",
    "\n",
    "sharedMatrix = m.np_zeros((100,100))\n",
    "\n",
    "func = partial(function_compute, sharedMatrix )\n",
    "\n",
    "# Create pool of 8 workers\n",
    "pool = Pool(8)\n",
    "\n",
    "pool.map(func, input_list)\n",
    "\n",
    "# or if you expect some returning outut then:\n",
    "# data_outputs = pool.map(func, input_list)\n"
   ]
  },
  {
   "cell_type": "markdown",
   "metadata": {
    "collapsed": true
   },
   "source": [
    "### 7. Reading and writing CSV using Pandas"
   ]
  },
  {
   "cell_type": "code",
   "execution_count": null,
   "metadata": {
    "collapsed": true
   },
   "outputs": [],
   "source": [
    "import pandas as pd\n",
    "import numpy as np\n",
    "\n",
    "\n",
    "df = pd.read_csv('/home1/varunk/data/ABIDE1/RawDataBIDs/composite_phenotypic_file.csv') # , index_col='SUB_ID'\n",
    "\n",
    "df = df.sort_values(['SUB_ID']) # Sort the table according to the SUB_ID field\n",
    "\n",
    "df_matrix = df.as_matrix(['SUB_ID']).squeeze() # Extracting out the sub_id from the table\n",
    "\n",
    "# or\n",
    "\n",
    "# df_matrix = df.as_matrix() # to convert the whole table to matrix\n",
    "\n",
    "# to do filtering based on field values\n",
    "\n",
    "filtered_table = df.loc[(df['DSM_IV_TR'] == 2) & (df['SEX'] == 1) & (df['SITE_ID'] == 'NYU')]\n",
    "\n",
    "\n",
    "# Save the table\n",
    "\n",
    "filtered_table.to_csv('table.csv')\n",
    "\n",
    "#  Another way to create the data frame and saving it\n",
    "\n",
    "df = pd.DataFrame({\n",
    "    'SITE_NAME': SITE ,  # SITE and NUM_AUT_DSM_V are scalar values thats why we need to include index=[0]\n",
    "    'NUM_AUT_DSM_V': NUM_AUT_DSM_V , \n",
    "    \n",
    "    },index=[0],columns = [ 'SITE_NAME',\n",
    "                            'NUM_AUT_DSM_V',\n",
    "                          ])\n",
    "#  The above creates one row\n",
    "\n",
    "# ------------ OR ----------------------------------------------------------------------------------------\n",
    "\n",
    "df = pd.DataFrame({\n",
    "    'SITE_NAME': [SITE] ,  # SITE and NUM_AUT_DSM_V could be lists, then it creates a table with multiple rows\n",
    "    'NUM_AUT_DSM_V': [NUM_AUT_DSM_V] , \n",
    "    \n",
    "    },columns = [ 'SITE_NAME',\n",
    "                            'NUM_AUT_DSM_V',\n",
    "                          ])\n",
    "\n",
    "\n",
    "# Save the table\n",
    "\n",
    "df.to_csv('table.csv')\n"
   ]
  },
  {
   "cell_type": "markdown",
   "metadata": {},
   "source": [
    "### 8. Reading json files"
   ]
  },
  {
   "cell_type": "code",
   "execution_count": null,
   "metadata": {
    "collapsed": true
   },
   "outputs": [],
   "source": [
    "import json\n",
    "\n",
    "json_path = '../scripts/json/paths.json'\n",
    "with open(json_path, 'rt') as fp:\n",
    "    task_info = json.load(fp)\n",
    "    \n",
    "# Accessing the contents:\n",
    "\n",
    "path = task_info['atlas_path']"
   ]
  },
  {
   "cell_type": "code",
   "execution_count": null,
   "metadata": {
    "collapsed": true
   },
   "outputs": [],
   "source": [
    "# # For passing on the shared file:\n",
    "# class MyManager(multiprocessing.managers.BaseManager):\n",
    "#     pass\n",
    "# MyManager.register('np_zeros', np.zeros, multiprocessing.managers.ArrayProxy)"
   ]
  },
  {
   "cell_type": "markdown",
   "metadata": {
    "collapsed": true
   },
   "source": [
    "### 9. Plotting Histogram"
   ]
  },
  {
   "cell_type": "code",
   "execution_count": null,
   "metadata": {
    "collapsed": true
   },
   "outputs": [],
   "source": [
    "import numpy as np\n",
    "%matplotlib inline\n",
    "import matplotlib.pyplot as plt\n",
    "\n",
    "bins = np.arange(0,10000, 10) # fixed bin size of 10\n",
    "\n",
    "res = plt.hist(data_to_plot, \n",
    "         bins=bins, \n",
    ")\n"
   ]
  },
  {
   "cell_type": "code",
   "execution_count": null,
   "metadata": {
    "collapsed": true
   },
   "outputs": [],
   "source": [
    "# Plotting 2 histograms together\n",
    "\n",
    "from matplotlib import pyplot\n",
    "\n",
    "pyplot.hist(data_1, alpha=0.5,bins=bins, label='Data1',rwidth=0.1, align='left')\n",
    "pyplot.hist(data_2,alpha=0.5, bins=bins, label='Data2',rwidth=0.1,align='right')\n",
    "pyplot.legend(loc='upper right')\n",
    "pyplot.xlabel('X label')\n",
    "pyplot.show()"
   ]
  },
  {
   "cell_type": "markdown",
   "metadata": {},
   "source": [
    "### Box Plot\n",
    "https://matplotlib.org/examples/pylab_examples/boxplot_demo.html  \n",
    "\n",
    "https://www.wellbeingatschool.org.nz/information-sheet/understanding-and-interpreting-box-plots"
   ]
  },
  {
   "cell_type": "code",
   "execution_count": null,
   "metadata": {
    "collapsed": true
   },
   "outputs": [],
   "source": [
    "res = pyplot.boxplot([data_1, data_2]) # Plots 2 box plots together (Can plot multiple as well)"
   ]
  },
  {
   "cell_type": "code",
   "execution_count": null,
   "metadata": {
    "collapsed": true
   },
   "outputs": [],
   "source": []
  },
  {
   "cell_type": "code",
   "execution_count": null,
   "metadata": {
    "collapsed": true
   },
   "outputs": [],
   "source": []
  },
  {
   "cell_type": "code",
   "execution_count": null,
   "metadata": {
    "collapsed": true
   },
   "outputs": [],
   "source": []
  },
  {
   "cell_type": "code",
   "execution_count": 1,
   "metadata": {},
   "outputs": [
    {
     "data": {
      "text/plain": [
       "'/usr/share/fsl/5.0'"
      ]
     },
     "execution_count": 1,
     "metadata": {},
     "output_type": "execute_result"
    }
   ],
   "source": [
    "import os\n",
    "os.path.expandvars('$FSLDIR')"
   ]
  },
  {
   "cell_type": "code",
   "execution_count": null,
   "metadata": {
    "collapsed": true
   },
   "outputs": [],
   "source": [
    "/usr/share/fsl/5.0/data/standard/MNI152_T1_2mm_brain_mask.nii.gz"
   ]
  },
  {
   "cell_type": "code",
   "execution_count": 1,
   "metadata": {
    "collapsed": true
   },
   "outputs": [],
   "source": [
    "import numpy as np\n",
    "bins = np.arange(10000, 10) "
   ]
  },
  {
   "cell_type": "code",
   "execution_count": 2,
   "metadata": {},
   "outputs": [
    {
     "data": {
      "text/plain": [
       "array([], dtype=int64)"
      ]
     },
     "execution_count": 2,
     "metadata": {},
     "output_type": "execute_result"
    }
   ],
   "source": [
    "bins"
   ]
  },
  {
   "cell_type": "code",
   "execution_count": null,
   "metadata": {
    "collapsed": true
   },
   "outputs": [],
   "source": []
  }
 ],
 "metadata": {
  "kernelspec": {
   "display_name": "Python 3",
   "language": "python",
   "name": "python3"
  },
  "language_info": {
   "codemirror_mode": {
    "name": "ipython",
    "version": 3
   },
   "file_extension": ".py",
   "mimetype": "text/x-python",
   "name": "python",
   "nbconvert_exporter": "python",
   "pygments_lexer": "ipython3",
   "version": "3.5.2"
  }
 },
 "nbformat": 4,
 "nbformat_minor": 2
}
